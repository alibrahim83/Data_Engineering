{
 "cells": [
  {
   "cell_type": "markdown",
   "metadata": {},
   "source": [
    "<p style=\"text-align:center\">\n",
    "    <a href=\"https://skills.network/?utm_medium=Exinfluencer&utm_source=Exinfluencer&utm_content=000026UJ&utm_term=10006555&utm_id=NA-SkillsNetwork-Channel-SkillsNetworkCoursesIBMDeveloperSkillsNetworkPY0221ENSkillsNetwork23455645-2022-01-01\" target=\"_blank\">\n",
    "    <img src=\"https://cf-courses-data.s3.us.cloud-object-storage.appdomain.cloud/assets/logos/SN_web_lightmode.png\" width=\"200\" alt=\"Skills Network Logo\"  />\n",
    "    </a>\n",
    "</p>\n"
   ]
  },
  {
   "cell_type": "markdown",
   "metadata": {},
   "source": [
    "# Peer Review Assignment - Data Engineer - Extract API Data\n"
   ]
  },
  {
   "cell_type": "markdown",
   "metadata": {},
   "source": [
    "Estimated time needed: **20** minutes\n"
   ]
  },
  {
   "cell_type": "markdown",
   "metadata": {},
   "source": [
    "## Objectives\n",
    "\n",
    "In this part you will:\n",
    "\n",
    "*   Collect exchange rate data using an API\n",
    "*   Store the data as a CSV\n"
   ]
  },
  {
   "cell_type": "markdown",
   "metadata": {},
   "source": [
    "For this lab, we are going to be using Python and several Python libraries. Some of these libraries might be installed in your lab environment or in SN Labs. Others may need to be installed by you. The cells below will install these libraries when executed.\n"
   ]
  },
  {
   "cell_type": "code",
   "execution_count": 1,
   "metadata": {},
   "outputs": [],
   "source": [
    "#!mamba install pandas==1.3.3 -y\n",
    "#!mamba install requests==2.26.0 -y"
   ]
  },
  {
   "cell_type": "markdown",
   "metadata": {},
   "source": [
    "## Imports\n",
    "\n",
    "Import any additional libraries you may need here.\n"
   ]
  },
  {
   "cell_type": "code",
   "execution_count": 2,
   "metadata": {},
   "outputs": [],
   "source": [
    "import requests\n",
    "import pandas as pd\n",
    "import json"
   ]
  },
  {
   "cell_type": "markdown",
   "metadata": {},
   "source": [
    "## Extract Data Using an API\n"
   ]
  },
  {
   "cell_type": "markdown",
   "metadata": {},
   "source": [
    "Using ExchangeRate-API we will extract currency exchange rate data. Use the below steps to get the access key and to get the data.\n",
    "\n",
    "1.  Open the url : [https://exchangeratesapi.io/](https://exchangeratesapi.io/?utm_medium=Exinfluencer&utm_source=Exinfluencer&utm_content=000026UJ&utm_term=10006555&utm_id=NA-SkillsNetwork-Channel-SkillsNetworkCoursesIBMDeveloperSkillsNetworkPY0221ENSkillsNetwork23455645-2022-01-01) and click on **Get Free API Key**.\n",
    "2.  Subscribe for Free plan and Sign-in with the Google Account.\n",
    "3.  Once the account is created you will be redirected to [https://apilayer.com](https://apilayer.com/?utm_medium=Exinfluencer&utm_source=Exinfluencer&utm_content=000026UJ&utm_term=10006555&utm_id=NA-SkillsNetwork-Channel-SkillsNetworkCoursesIBMDeveloperSkillsNetworkPY0221ENSkillsNetwork23455645-2022-01-01) website.\n",
    "4.  Now, click on the **user icon** and click **Account** as shown below:\n",
    "\n",
    "<img src=\"https://cf-courses-data.s3.us.cloud-object-storage.appdomain.cloud/IBMDeveloperSkillsNetwork-PY0221EN-SkillsNetwork/labs/module%206/Final%20Assignment/Images/account.png\"/>\n",
    "\n",
    "3.  Scroll down and you will get the API Key section. Copy the API key and use in the url in Question 1.\n"
   ]
  },
  {
   "cell_type": "markdown",
   "metadata": {},
   "source": [
    "### Call the API\n",
    "\n",
    "<b> Question 1</b> Using the `requests` library call the endpoint given above and save the text, remember the first few characters of the output:\n"
   ]
  },
  {
   "cell_type": "code",
   "execution_count": 9,
   "metadata": {},
   "outputs": [
    {
     "data": {
      "text/plain": [
       "{'success': True,\n",
       " 'timestamp': 1675228323,\n",
       " 'base': 'EUR',\n",
       " 'date': '2023-02-01',\n",
       " 'rates': {'AED': 3.992112,\n",
       "  'AFN': 97.330773,\n",
       "  'ALL': 116.742483,\n",
       "  'AMD': 429.813037,\n",
       "  'ANG': 1.954951,\n",
       "  'AOA': 548.071321,\n",
       "  'ARS': 203.258156,\n",
       "  'AUD': 1.538143,\n",
       "  'AWG': 1.959319,\n",
       "  'AZN': 1.856617,\n",
       "  'BAM': 1.957848,\n",
       "  'BBD': 2.190188,\n",
       "  'BDT': 115.793156,\n",
       "  'BGN': 1.95988,\n",
       "  'BHD': 0.409776,\n",
       "  'BIF': 2250.649897,\n",
       "  'BMD': 1.08685,\n",
       "  'BND': 1.428773,\n",
       "  'BOB': 7.495326,\n",
       "  'BRL': 5.51479,\n",
       "  'BSD': 1.084738,\n",
       "  'BTC': 4.6969367e-05,\n",
       "  'BTN': 88.946884,\n",
       "  'BWP': 13.960547,\n",
       "  'BYN': 2.73796,\n",
       "  'BYR': 21302.265686,\n",
       "  'BZD': 2.186484,\n",
       "  'CAD': 1.446652,\n",
       "  'CDF': 2219.892821,\n",
       "  'CHF': 0.995685,\n",
       "  'CLF': 0.03136,\n",
       "  'CLP': 865.306981,\n",
       "  'CNY': 7.335911,\n",
       "  'COP': 5064.983196,\n",
       "  'CRC': 598.996177,\n",
       "  'CUC': 1.08685,\n",
       "  'CUP': 28.801533,\n",
       "  'CVE': 110.378775,\n",
       "  'CZK': 23.785012,\n",
       "  'DJF': 193.111719,\n",
       "  'DKK': 7.439703,\n",
       "  'DOP': 61.501945,\n",
       "  'DZD': 147.722519,\n",
       "  'EGP': 32.797311,\n",
       "  'ERN': 16.302754,\n",
       "  'ETB': 58.194906,\n",
       "  'EUR': 1,\n",
       "  'FJD': 2.347484,\n",
       "  'FKP': 0.882014,\n",
       "  'GBP': 0.882484,\n",
       "  'GEL': 2.857828,\n",
       "  'GGP': 0.882014,\n",
       "  'GHS': 13.396208,\n",
       "  'GIP': 0.882014,\n",
       "  'GMD': 67.170423,\n",
       "  'GNF': 9339.426779,\n",
       "  'GTQ': 8.514977,\n",
       "  'GYD': 228.875918,\n",
       "  'HKD': 8.523352,\n",
       "  'HNL': 26.74015,\n",
       "  'HRK': 7.653815,\n",
       "  'HTG': 162.165155,\n",
       "  'HUF': 391.179181,\n",
       "  'IDR': 16288.897011,\n",
       "  'ILS': 3.754844,\n",
       "  'IMP': 0.882014,\n",
       "  'INR': 88.926633,\n",
       "  'IQD': 1583.154581,\n",
       "  'IRR': 45870.516421,\n",
       "  'ISK': 153.310964,\n",
       "  'JEP': 0.882014,\n",
       "  'JMD': 166.879549,\n",
       "  'JOD': 0.771008,\n",
       "  'JPY': 141.578516,\n",
       "  'KES': 134.997352,\n",
       "  'KGS': 93.631715,\n",
       "  'KHR': 4452.789792,\n",
       "  'KMF': 492.723928,\n",
       "  'KPW': 978.154543,\n",
       "  'KRW': 1338.472468,\n",
       "  'KWD': 0.331772,\n",
       "  'KYD': 0.903919,\n",
       "  'KZT': 499.568044,\n",
       "  'LAK': 18269.916088,\n",
       "  'LBP': 1640.113211,\n",
       "  'LKR': 398.62669,\n",
       "  'LRD': 170.363498,\n",
       "  'LSL': 18.704926,\n",
       "  'LTL': 3.209186,\n",
       "  'LVL': 0.657425,\n",
       "  'LYD': 5.159389,\n",
       "  'MAD': 11.075416,\n",
       "  'MDL': 20.338645,\n",
       "  'MGA': 4648.146694,\n",
       "  'MKD': 61.678576,\n",
       "  'MMK': 2277.939645,\n",
       "  'MNT': 3768.308185,\n",
       "  'MOP': 8.756586,\n",
       "  'MRO': 388.005367,\n",
       "  'MUR': 48.029591,\n",
       "  'MVR': 16.693929,\n",
       "  'MWK': 1114.140923,\n",
       "  'MXN': 20.491959,\n",
       "  'MYR': 4.636284,\n",
       "  'MZN': 69.373311,\n",
       "  'NAD': 18.704868,\n",
       "  'NGN': 500.516141,\n",
       "  'NIO': 39.635855,\n",
       "  'NOK': 10.839859,\n",
       "  'NPR': 142.285862,\n",
       "  'NZD': 1.688563,\n",
       "  'OMR': 0.418459,\n",
       "  'PAB': 1.084718,\n",
       "  'PEN': 4.178707,\n",
       "  'PGK': 3.822876,\n",
       "  'PHP': 59.370824,\n",
       "  'PKR': 290.708502,\n",
       "  'PLN': 4.709415,\n",
       "  'PYG': 8011.668741,\n",
       "  'QAR': 3.957494,\n",
       "  'RON': 4.919992,\n",
       "  'RSD': 117.347564,\n",
       "  'RUB': 76.204527,\n",
       "  'RWF': 1172.179815,\n",
       "  'SAR': 4.079081,\n",
       "  'SBD': 8.927843,\n",
       "  'SCR': 15.418841,\n",
       "  'SDG': 633.086462,\n",
       "  'SEK': 11.341946,\n",
       "  'SGD': 1.428485,\n",
       "  'SHP': 1.497022,\n",
       "  'SLE': 21.446969,\n",
       "  'SLL': 21084.895602,\n",
       "  'SOS': 618.962564,\n",
       "  'SRD': 34.819969,\n",
       "  'STD': 22495.606663,\n",
       "  'SVC': 9.491653,\n",
       "  'SYP': 2730.723939,\n",
       "  'SZL': 18.913744,\n",
       "  'THB': 35.780745,\n",
       "  'TJS': 11.161705,\n",
       "  'TMT': 3.814845,\n",
       "  'TND': 3.314758,\n",
       "  'TOP': 2.515084,\n",
       "  'TRY': 20.445127,\n",
       "  'TTD': 7.368393,\n",
       "  'TWD': 32.593009,\n",
       "  'TZS': 2539.969105,\n",
       "  'UAH': 39.858518,\n",
       "  'UGX': 4000.423507,\n",
       "  'USD': 1.08685,\n",
       "  'UYU': 41.919209,\n",
       "  'UZS': 12224.52064,\n",
       "  'VEF': 2382820.746367,\n",
       "  'VES': 23.584587,\n",
       "  'VND': 25486.639303,\n",
       "  'VUV': 125.731867,\n",
       "  'WST': 2.89348,\n",
       "  'XAF': 656.645933,\n",
       "  'XAG': 0.045941,\n",
       "  'XAU': 0.000564,\n",
       "  'XCD': 2.937267,\n",
       "  'XDR': 0.802442,\n",
       "  'XOF': 656.642909,\n",
       "  'XPF': 119.779726,\n",
       "  'YER': 272.140327,\n",
       "  'ZAR': 18.92201,\n",
       "  'ZMK': 9782.958844,\n",
       "  'ZMW': 20.636957,\n",
       "  'ZWL': 349.96535}}"
      ]
     },
     "execution_count": 9,
     "metadata": {},
     "output_type": "execute_result"
    }
   ],
   "source": [
    "# Write your code here\n",
    "# url = \"https://api.apilayer.com/exchangerates_data/live?base=EUR&access_key=w0a8hCYCzabcMSSAFxFAN6i4HWlDDeSH\" #Make sure to change ******* to your API key.\n",
    "\n",
    "url = \"https://api.apilayer.com/fixer/latest?base=EUR&apikey=w0a8hCYCzabcMSSAFxFAN6i4HWlDDeSH\"\n",
    "response = requests.get(url)\n",
    "# response\n",
    "data = response.json()\n",
    "data"
   ]
  },
  {
   "cell_type": "markdown",
   "metadata": {},
   "source": [
    "### Save as DataFrame\n",
    "\n",
    "<b> Question 2</b>  Using the data gathered turn it into a `pandas` dataframe. The dataframe should have the Currency as the index and `Rate` as their columns. Make sure to drop unnecessary columns.\n"
   ]
  },
  {
   "cell_type": "code",
   "execution_count": 18,
   "metadata": {},
   "outputs": [
    {
     "data": {
      "text/html": [
       "<div>\n",
       "<style scoped>\n",
       "    .dataframe tbody tr th:only-of-type {\n",
       "        vertical-align: middle;\n",
       "    }\n",
       "\n",
       "    .dataframe tbody tr th {\n",
       "        vertical-align: top;\n",
       "    }\n",
       "\n",
       "    .dataframe thead th {\n",
       "        text-align: right;\n",
       "    }\n",
       "</style>\n",
       "<table border=\"1\" class=\"dataframe\">\n",
       "  <thead>\n",
       "    <tr style=\"text-align: right;\">\n",
       "      <th></th>\n",
       "      <th>Rate</th>\n",
       "    </tr>\n",
       "  </thead>\n",
       "  <tbody>\n",
       "    <tr>\n",
       "      <th>AED</th>\n",
       "      <td>3.992112</td>\n",
       "    </tr>\n",
       "    <tr>\n",
       "      <th>AFN</th>\n",
       "      <td>97.330773</td>\n",
       "    </tr>\n",
       "    <tr>\n",
       "      <th>ALL</th>\n",
       "      <td>116.742483</td>\n",
       "    </tr>\n",
       "    <tr>\n",
       "      <th>AMD</th>\n",
       "      <td>429.813037</td>\n",
       "    </tr>\n",
       "    <tr>\n",
       "      <th>ANG</th>\n",
       "      <td>1.954951</td>\n",
       "    </tr>\n",
       "    <tr>\n",
       "      <th>...</th>\n",
       "      <td>...</td>\n",
       "    </tr>\n",
       "    <tr>\n",
       "      <th>YER</th>\n",
       "      <td>272.140327</td>\n",
       "    </tr>\n",
       "    <tr>\n",
       "      <th>ZAR</th>\n",
       "      <td>18.922010</td>\n",
       "    </tr>\n",
       "    <tr>\n",
       "      <th>ZMK</th>\n",
       "      <td>9782.958844</td>\n",
       "    </tr>\n",
       "    <tr>\n",
       "      <th>ZMW</th>\n",
       "      <td>20.636957</td>\n",
       "    </tr>\n",
       "    <tr>\n",
       "      <th>ZWL</th>\n",
       "      <td>349.965350</td>\n",
       "    </tr>\n",
       "  </tbody>\n",
       "</table>\n",
       "<p>170 rows × 1 columns</p>\n",
       "</div>"
      ],
      "text/plain": [
       "            Rate\n",
       "AED     3.992112\n",
       "AFN    97.330773\n",
       "ALL   116.742483\n",
       "AMD   429.813037\n",
       "ANG     1.954951\n",
       "..           ...\n",
       "YER   272.140327\n",
       "ZAR    18.922010\n",
       "ZMK  9782.958844\n",
       "ZMW    20.636957\n",
       "ZWL   349.965350\n",
       "\n",
       "[170 rows x 1 columns]"
      ]
     },
     "execution_count": 21,
     "metadata": {},
     "output_type": "execute_result"
    }
   ],
   "source": [
    "# Turn the data into a dataframe\n",
    "df = pd.DataFrame.from_dict(data['rates'], orient='index')\n",
    "df = df.rename(columns={0: 'Rate'})\n",
    "df.index.name = 'Currency'\n",
    "df"
   ]
  },
  {
   "cell_type": "code",
   "execution_count": 19,
   "metadata": {},
   "outputs": [],
   "source": [
    "# Drop unnescessary columns\n",
    "df.index.name = None\n"
   ]
  },
  {
   "cell_type": "markdown",
   "metadata": {},
   "source": [
    "### Load the Data\n",
    "\n",
    "Using the dataframe save it as a CSV names `exchange_rates_1.csv`.\n"
   ]
  },
  {
   "cell_type": "code",
   "execution_count": 20,
   "metadata": {},
   "outputs": [],
   "source": [
    "# Save the Dataframe\n",
    "df.to_csv(\"exchange_rates_1.csv\")"
   ]
  },
  {
   "cell_type": "markdown",
   "metadata": {},
   "source": [
    "Your CSV should be in this format with more currencies\n",
    "\n",
    "|     | Rates      |\n",
    "| --- | ---------- |\n",
    "| AED | 4.398618   |\n",
    "| AFN | 92.917693  |\n",
    "| ALL | 123.099093 |\n",
    "| AMD | 621.935674 |\n",
    "| ANG | 2.149648   |\n"
   ]
  },
  {
   "cell_type": "markdown",
   "metadata": {},
   "source": [
    "## Authors\n"
   ]
  },
  {
   "cell_type": "markdown",
   "metadata": {},
   "source": [
    "Ramesh Sannareddy, Joseph Santarcangelo and Azim Hirjani\n"
   ]
  },
  {
   "cell_type": "markdown",
   "metadata": {},
   "source": [
    "### Other Contributors\n"
   ]
  },
  {
   "cell_type": "markdown",
   "metadata": {},
   "source": [
    "Rav Ahuja\n"
   ]
  },
  {
   "cell_type": "markdown",
   "metadata": {},
   "source": [
    "## Change Log\n"
   ]
  },
  {
   "cell_type": "markdown",
   "metadata": {},
   "source": [
    "| Date (YYYY-MM-DD) | Version | Changed By        | Change Description                              |\n",
    "| ----------------- | ------- | ----------------- | ----------------------------------------------- |\n",
    "| 2022-05-06        | 0.3     | Malika            | Updated instructions to get the API and the url |\n",
    "| 2021-04-15        | 0.2     | Malika            | Updated the lab from USD to EUR                 |\n",
    "| 2020-11-25        | 0.1     | Ramesh Sannareddy | Created initial version of the lab              |\n"
   ]
  },
  {
   "cell_type": "markdown",
   "metadata": {},
   "source": [
    "Copyright © 2020 IBM Corporation. This notebook and its source code are released under the terms of the [MIT License](https://cognitiveclass.ai/mit-license?utm_medium=Exinfluencer&utm_source=Exinfluencer&utm_content=000026UJ&utm_term=10006555&utm_id=NA-SkillsNetwork-Channel-SkillsNetworkCoursesIBMDeveloperSkillsNetworkPY0221ENSkillsNetwork23455645-2022-01-01&cm_mmc=Email_Newsletter-\\_-Developer_Ed%2BTech-\\_-WW_WW-\\_-SkillsNetwork-Courses-IBM-DA0321EN-SkillsNetwork-21426264&cm_mmca1=000026UJ&cm_mmca2=10006555&cm_mmca3=M12345678&cvosrc=email.Newsletter.M12345678&cvo_campaign=000026UJ).\n"
   ]
  }
 ],
 "metadata": {
  "kernelspec": {
   "display_name": "Python",
   "language": "python",
   "name": "conda-env-python-py"
  },
  "language_info": {
   "codemirror_mode": {
    "name": "ipython",
    "version": 3
   },
   "file_extension": ".py",
   "mimetype": "text/x-python",
   "name": "python",
   "nbconvert_exporter": "python",
   "pygments_lexer": "ipython3",
   "version": "3.7.12"
  }
 },
 "nbformat": 4,
 "nbformat_minor": 4
}
